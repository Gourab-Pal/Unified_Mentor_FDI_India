{
 "cells": [
  {
   "cell_type": "markdown",
   "metadata": {},
   "source": [
    "# Required python packages"
   ]
  },
  {
   "cell_type": "code",
   "execution_count": 9,
   "metadata": {},
   "outputs": [],
   "source": [
    "import pandas as pd"
   ]
  },
  {
   "cell_type": "markdown",
   "metadata": {},
   "source": [
    "# Data import"
   ]
  },
  {
   "cell_type": "code",
   "execution_count": 10,
   "metadata": {},
   "outputs": [],
   "source": [
    "data = pd.read_csv('data_v1.csv')"
   ]
  },
  {
   "cell_type": "markdown",
   "metadata": {},
   "source": [
    "# Finding depth of dataset"
   ]
  },
  {
   "cell_type": "code",
   "execution_count": 11,
   "metadata": {},
   "outputs": [],
   "source": [
    "row, col = data.shape"
   ]
  },
  {
   "cell_type": "markdown",
   "metadata": {},
   "source": [
    "# Manipulating data values to USD from USD million"
   ]
  },
  {
   "cell_type": "code",
   "execution_count": 12,
   "metadata": {},
   "outputs": [],
   "source": [
    "for i in range(0,row,1):\n",
    "    for j in range(1, col, 1):\n",
    "        data.iloc[i,j] = data.iloc[i,j]*10**6"
   ]
  },
  {
   "cell_type": "markdown",
   "metadata": {},
   "source": [
    "# Creating a grand total column"
   ]
  },
  {
   "cell_type": "code",
   "execution_count": 15,
   "metadata": {},
   "outputs": [
    {
     "data": {
      "text/html": [
       "<div>\n",
       "<style scoped>\n",
       "    .dataframe tbody tr th:only-of-type {\n",
       "        vertical-align: middle;\n",
       "    }\n",
       "\n",
       "    .dataframe tbody tr th {\n",
       "        vertical-align: top;\n",
       "    }\n",
       "\n",
       "    .dataframe thead th {\n",
       "        text-align: right;\n",
       "    }\n",
       "</style>\n",
       "<table border=\"1\" class=\"dataframe\">\n",
       "  <thead>\n",
       "    <tr style=\"text-align: right;\">\n",
       "      <th></th>\n",
       "      <th>Sector</th>\n",
       "      <th>2000-01</th>\n",
       "      <th>2001-02</th>\n",
       "      <th>2002-03</th>\n",
       "      <th>2003-04</th>\n",
       "      <th>2004-05</th>\n",
       "      <th>2005-06</th>\n",
       "      <th>2006-07</th>\n",
       "      <th>2007-08</th>\n",
       "      <th>2008-09</th>\n",
       "      <th>2009-10</th>\n",
       "      <th>2010-11</th>\n",
       "      <th>2011-12</th>\n",
       "      <th>2012-13</th>\n",
       "      <th>2013-14</th>\n",
       "      <th>2014-15</th>\n",
       "      <th>2015-16</th>\n",
       "      <th>2016-17</th>\n",
       "      <th>Total</th>\n",
       "    </tr>\n",
       "  </thead>\n",
       "  <tbody>\n",
       "    <tr>\n",
       "      <th>0</th>\n",
       "      <td>METALLURGICAL INDUSTRIES</td>\n",
       "      <td>22690000.0</td>\n",
       "      <td>14140000.0</td>\n",
       "      <td>36610000.0</td>\n",
       "      <td>8110000.0</td>\n",
       "      <td>200380000.0</td>\n",
       "      <td>149130000.0</td>\n",
       "      <td>169940000.0</td>\n",
       "      <td>1.175750e+09</td>\n",
       "      <td>959940000.0</td>\n",
       "      <td>4.198800e+08</td>\n",
       "      <td>1.098140e+09</td>\n",
       "      <td>1.786140e+09</td>\n",
       "      <td>1.466230e+09</td>\n",
       "      <td>5.676300e+08</td>\n",
       "      <td>359340000.0</td>\n",
       "      <td>456310000.0</td>\n",
       "      <td>1.440180e+09</td>\n",
       "      <td>1.033054e+10</td>\n",
       "    </tr>\n",
       "    <tr>\n",
       "      <th>1</th>\n",
       "      <td>MINING</td>\n",
       "      <td>1320000.0</td>\n",
       "      <td>6520000.0</td>\n",
       "      <td>10060000.0</td>\n",
       "      <td>23480000.0</td>\n",
       "      <td>9920000.0</td>\n",
       "      <td>7400000.0</td>\n",
       "      <td>6620000.0</td>\n",
       "      <td>4.443600e+08</td>\n",
       "      <td>34160000.0</td>\n",
       "      <td>1.744000e+08</td>\n",
       "      <td>7.951000e+07</td>\n",
       "      <td>1.426500e+08</td>\n",
       "      <td>5.789000e+07</td>\n",
       "      <td>1.273000e+07</td>\n",
       "      <td>684390000.0</td>\n",
       "      <td>520670000.0</td>\n",
       "      <td>5.575000e+07</td>\n",
       "      <td>2.271830e+09</td>\n",
       "    </tr>\n",
       "    <tr>\n",
       "      <th>2</th>\n",
       "      <td>POWER</td>\n",
       "      <td>89420000.0</td>\n",
       "      <td>757440000.0</td>\n",
       "      <td>59110000.0</td>\n",
       "      <td>27090000.0</td>\n",
       "      <td>43370000.0</td>\n",
       "      <td>72690000.0</td>\n",
       "      <td>157150000.0</td>\n",
       "      <td>9.886800e+08</td>\n",
       "      <td>907660000.0</td>\n",
       "      <td>1.271790e+09</td>\n",
       "      <td>1.271770e+09</td>\n",
       "      <td>1.652380e+09</td>\n",
       "      <td>5.356800e+08</td>\n",
       "      <td>1.066080e+09</td>\n",
       "      <td>707040000.0</td>\n",
       "      <td>868800000.0</td>\n",
       "      <td>1.112980e+09</td>\n",
       "      <td>1.158913e+10</td>\n",
       "    </tr>\n",
       "    <tr>\n",
       "      <th>3</th>\n",
       "      <td>NON-CONVENTIONAL ENERGY</td>\n",
       "      <td>0.0</td>\n",
       "      <td>0.0</td>\n",
       "      <td>1700000.0</td>\n",
       "      <td>4140000.0</td>\n",
       "      <td>1270000.0</td>\n",
       "      <td>1350000.0</td>\n",
       "      <td>2440000.0</td>\n",
       "      <td>5.882000e+07</td>\n",
       "      <td>125880000.0</td>\n",
       "      <td>6.225200e+08</td>\n",
       "      <td>2.144000e+08</td>\n",
       "      <td>4.521700e+08</td>\n",
       "      <td>1.106520e+09</td>\n",
       "      <td>4.142500e+08</td>\n",
       "      <td>615950000.0</td>\n",
       "      <td>776510000.0</td>\n",
       "      <td>7.835700e+08</td>\n",
       "      <td>5.181490e+09</td>\n",
       "    </tr>\n",
       "    <tr>\n",
       "      <th>4</th>\n",
       "      <td>COAL PRODUCTION</td>\n",
       "      <td>0.0</td>\n",
       "      <td>0.0</td>\n",
       "      <td>0.0</td>\n",
       "      <td>40000.0</td>\n",
       "      <td>0.0</td>\n",
       "      <td>9140000.0</td>\n",
       "      <td>1300000.0</td>\n",
       "      <td>1.408000e+07</td>\n",
       "      <td>220000.0</td>\n",
       "      <td>0.000000e+00</td>\n",
       "      <td>0.000000e+00</td>\n",
       "      <td>0.000000e+00</td>\n",
       "      <td>0.000000e+00</td>\n",
       "      <td>2.960000e+06</td>\n",
       "      <td>0.0</td>\n",
       "      <td>0.0</td>\n",
       "      <td>0.000000e+00</td>\n",
       "      <td>2.774000e+07</td>\n",
       "    </tr>\n",
       "  </tbody>\n",
       "</table>\n",
       "</div>"
      ],
      "text/plain": [
       "                     Sector     2000-01      2001-02     2002-03     2003-04  \\\n",
       "0  METALLURGICAL INDUSTRIES  22690000.0   14140000.0  36610000.0   8110000.0   \n",
       "1                    MINING   1320000.0    6520000.0  10060000.0  23480000.0   \n",
       "2                     POWER  89420000.0  757440000.0  59110000.0  27090000.0   \n",
       "3   NON-CONVENTIONAL ENERGY         0.0          0.0   1700000.0   4140000.0   \n",
       "4           COAL PRODUCTION         0.0          0.0         0.0     40000.0   \n",
       "\n",
       "       2004-05      2005-06      2006-07       2007-08      2008-09  \\\n",
       "0  200380000.0  149130000.0  169940000.0  1.175750e+09  959940000.0   \n",
       "1    9920000.0    7400000.0    6620000.0  4.443600e+08   34160000.0   \n",
       "2   43370000.0   72690000.0  157150000.0  9.886800e+08  907660000.0   \n",
       "3    1270000.0    1350000.0    2440000.0  5.882000e+07  125880000.0   \n",
       "4          0.0    9140000.0    1300000.0  1.408000e+07     220000.0   \n",
       "\n",
       "        2009-10       2010-11       2011-12       2012-13       2013-14  \\\n",
       "0  4.198800e+08  1.098140e+09  1.786140e+09  1.466230e+09  5.676300e+08   \n",
       "1  1.744000e+08  7.951000e+07  1.426500e+08  5.789000e+07  1.273000e+07   \n",
       "2  1.271790e+09  1.271770e+09  1.652380e+09  5.356800e+08  1.066080e+09   \n",
       "3  6.225200e+08  2.144000e+08  4.521700e+08  1.106520e+09  4.142500e+08   \n",
       "4  0.000000e+00  0.000000e+00  0.000000e+00  0.000000e+00  2.960000e+06   \n",
       "\n",
       "       2014-15      2015-16       2016-17         Total  \n",
       "0  359340000.0  456310000.0  1.440180e+09  1.033054e+10  \n",
       "1  684390000.0  520670000.0  5.575000e+07  2.271830e+09  \n",
       "2  707040000.0  868800000.0  1.112980e+09  1.158913e+10  \n",
       "3  615950000.0  776510000.0  7.835700e+08  5.181490e+09  \n",
       "4          0.0          0.0  0.000000e+00  2.774000e+07  "
      ]
     },
     "execution_count": 15,
     "metadata": {},
     "output_type": "execute_result"
    }
   ],
   "source": [
    "data.head()"
   ]
  },
  {
   "cell_type": "markdown",
   "metadata": {},
   "source": [
    "# Saving new values in new csv file"
   ]
  },
  {
   "cell_type": "code",
   "execution_count": 16,
   "metadata": {},
   "outputs": [],
   "source": [
    "data.to_csv('data_v2.csv', index=False)"
   ]
  }
 ],
 "metadata": {
  "kernelspec": {
   "display_name": "Python 3",
   "language": "python",
   "name": "python3"
  },
  "language_info": {
   "codemirror_mode": {
    "name": "ipython",
    "version": 3
   },
   "file_extension": ".py",
   "mimetype": "text/x-python",
   "name": "python",
   "nbconvert_exporter": "python",
   "pygments_lexer": "ipython3",
   "version": "3.10.5"
  }
 },
 "nbformat": 4,
 "nbformat_minor": 2
}
